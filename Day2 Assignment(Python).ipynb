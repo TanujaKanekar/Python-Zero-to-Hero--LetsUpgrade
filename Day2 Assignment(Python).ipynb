{
 "cells": [
  {
   "cell_type": "markdown",
   "metadata": {},
   "source": [
    "#### Day2 Assignment(python)"
   ]
  },
  {
   "cell_type": "markdown",
   "metadata": {},
   "source": [
    ">question2: Remove all occurences of an element from a list"
   ]
  },
  {
   "cell_type": "code",
   "execution_count": 1,
   "metadata": {},
   "outputs": [],
   "source": [
    "num = [6, 1, 3, 5, 1, 1, 1, 0, 7, 8]\n",
    "Removingvalue= 1\n"
   ]
  },
  {
   "cell_type": "code",
   "execution_count": 2,
   "metadata": {},
   "outputs": [
    {
     "name": "stdout",
     "output_type": "stream",
     "text": [
      "[6, 3, 5, 0, 7, 8]\n"
     ]
    }
   ],
   "source": [
    "result = filter(lambda val: val !=  Removingvalue, num) \n",
    "print(list(result)) "
   ]
  },
  {
   "cell_type": "markdown",
   "metadata": {},
   "source": [
    ">question3: Check whether a string is pangram"
   ]
  },
  {
   "cell_type": "code",
   "execution_count": 3,
   "metadata": {},
   "outputs": [
    {
     "name": "stdout",
     "output_type": "stream",
     "text": [
      "Yes, the string is pangram\n"
     ]
    }
   ],
   "source": [
    "#Importing the string\n",
    "import string\n",
    "  \n",
    "alphabet = set(string.ascii_lowercase)\n",
    "\n",
    "#Defining the fucntion for pangram\n",
    "def ispangram(string):\n",
    "    return set(string.lower()) >= alphabet\n",
    "      \n",
    "# main code\n",
    "string = \"Queen Elizabeth visited Jim Fox, camping in New York.\"\n",
    "if(ispangram(string) == True):\n",
    "    print(\"Yes, the string is pangram\")\n",
    "else:\n",
    "    print(\"No, the string is not pangram\")"
   ]
  },
  {
   "cell_type": "code",
   "execution_count": null,
   "metadata": {},
   "outputs": [],
   "source": []
  }
 ],
 "metadata": {
  "kernelspec": {
   "display_name": "Python 3",
   "language": "python",
   "name": "python3"
  },
  "language_info": {
   "codemirror_mode": {
    "name": "ipython",
    "version": 3
   },
   "file_extension": ".py",
   "mimetype": "text/x-python",
   "name": "python",
   "nbconvert_exporter": "python",
   "pygments_lexer": "ipython3",
   "version": "3.8.5"
  }
 },
 "nbformat": 4,
 "nbformat_minor": 4
}
