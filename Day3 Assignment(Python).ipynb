{
 "cells": [
  {
   "cell_type": "markdown",
   "metadata": {},
   "source": [
    "#### Day3 Assignment(Python)"
   ]
  },
  {
   "cell_type": "code",
   "execution_count": 1,
   "metadata": {},
   "outputs": [],
   "source": [
    "#Creating a Reciever gift list\n",
    "reciever_list = [2 , 1 , 5 , 3 , 4]"
   ]
  },
  {
   "cell_type": "code",
   "execution_count": 2,
   "metadata": {},
   "outputs": [
    {
     "data": {
      "text/plain": [
       "{1: 2, 2: 1, 3: 5, 4: 3, 5: 4}"
      ]
     },
     "execution_count": 2,
     "metadata": {},
     "output_type": "execute_result"
    }
   ],
   "source": [
    "#Creating a Dictionary\n",
    "dict = {\n",
    "    (reciever_list.index(reciever_list[0])+1):reciever_list[0],\n",
    "    (reciever_list.index(reciever_list[1])+1):reciever_list[1],\n",
    "    (reciever_list.index(reciever_list[2])+1):reciever_list[2],\n",
    "    (reciever_list.index(reciever_list[3])+1):reciever_list[3],\n",
    "    (reciever_list.index(reciever_list[4])+1):reciever_list[4]\n",
    "    }\n",
    "dict"
   ]
  },
  {
   "cell_type": "code",
   "execution_count": 3,
   "metadata": {},
   "outputs": [
    {
     "data": {
      "text/plain": [
       "[1, 2, 3, 4, 5]"
      ]
     },
     "execution_count": 3,
     "metadata": {},
     "output_type": "execute_result"
    }
   ],
   "source": [
    "#checking the key list of dictionary\n",
    "key_list = list(dict.keys())\n",
    "key_list"
   ]
  },
  {
   "cell_type": "code",
   "execution_count": 4,
   "metadata": {},
   "outputs": [
    {
     "data": {
      "text/plain": [
       "[2, 1, 5, 3, 4]"
      ]
     },
     "execution_count": 4,
     "metadata": {},
     "output_type": "execute_result"
    }
   ],
   "source": [
    "#Checking the value list of dictionary\n",
    "val_list = list(dict.values())\n",
    "val_list"
   ]
  },
  {
   "cell_type": "code",
   "execution_count": 5,
   "metadata": {},
   "outputs": [
    {
     "name": "stdout",
     "output_type": "stream",
     "text": [
      "[2, 1, 4, 5, 3]\n"
     ]
    }
   ],
   "source": [
    "#Printing the gifted list\n",
    "donor_list=[0,0,0,0,0]\n",
    "for i in range(5):\n",
    "    position = val_list.index(reciever_list[i])\n",
    "    donor_list[val_list[position]-1] = key_list[position]\n",
    "print(donor_list)"
   ]
  },
  {
   "cell_type": "code",
   "execution_count": null,
   "metadata": {},
   "outputs": [],
   "source": []
  }
 ],
 "metadata": {
  "kernelspec": {
   "display_name": "Python 3",
   "language": "python",
   "name": "python3"
  },
  "language_info": {
   "codemirror_mode": {
    "name": "ipython",
    "version": 3
   },
   "file_extension": ".py",
   "mimetype": "text/x-python",
   "name": "python",
   "nbconvert_exporter": "python",
   "pygments_lexer": "ipython3",
   "version": "3.8.5"
  }
 },
 "nbformat": 4,
 "nbformat_minor": 5
}
